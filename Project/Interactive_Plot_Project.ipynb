{
 "cells": [
  {
   "cell_type": "code",
   "execution_count": 3,
   "metadata": {},
   "outputs": [],
   "source": [
    "import blimpy\n",
    "import matplotlib.pyplot as plt\n",
    "import numpy as np\n",
    "from matplotlib import cm\n",
    "import matplotlib.colors\n",
    "from mpl_toolkits.axes_grid1.inset_locator import zoomed_inset_axes\n",
    "from mpl_toolkits.axes_grid1.inset_locator import mark_inset\n",
    "from ipywidgets import interact, interactive, fixed, interact_manual\n",
    "import ipywidgets as widgets\n",
    "from IPython import display\n",
    "%matplotlib inline"
   ]
  },
  {
   "cell_type": "code",
   "execution_count": 4,
   "metadata": {},
   "outputs": [],
   "source": [
    "\"\"\"Loading files into Waterfall and naming to respective observation number\"\"\"\n",
    "filepath1 = '../HIP66704/spliced_blc0001020304050607_guppi_57650_54573_Hip66704_0003.gpuspec.0000.h5'\n",
    "filepath2 = '../HIP66704/spliced_blc0001020304050607_guppi_57650_54910_Hip65678_0004.gpuspec.0000.h5'\n",
    "filepath3 = '../HIP66704/spliced_blc0001020304050607_guppi_57650_55247_Hip66704_0005.gpuspec.0000.h5'\n",
    "filepath4 = '../HIP66704/spliced_blc0001020304050607_guppi_57650_55588_Hip65946_0006.gpuspec.0000.h5'\n",
    "filepath5 = '../HIP66704/spliced_blc0001020304050607_guppi_57650_55929_Hip66704_0007.gpuspec.0000.h5'\n",
    "filepath6 = '../HIP66704/spliced_blc0001020304050607_guppi_57650_56272_Hip66192_0008.gpuspec.0000.h5'\n",
    "waterfall1 = blimpy.Waterfall(filepath1)\n",
    "waterfall2 = blimpy.Waterfall(filepath2)\n",
    "waterfall3 = blimpy.Waterfall(filepath3)\n",
    "waterfall4 = blimpy.Waterfall(filepath4)\n",
    "waterfall5 = blimpy.Waterfall(filepath5)\n",
    "waterfall6 = blimpy.Waterfall(filepath6)"
   ]
  },
  {
   "cell_type": "code",
   "execution_count": 5,
   "metadata": {},
   "outputs": [],
   "source": [
    "\"\"\"Logging times and freqs of each observation into respective variable names, times# and freqs#.\"\"\"\n",
    "times1 = waterfall1.populate_timestamps()\n",
    "times2 = waterfall2.populate_timestamps()\n",
    "times3 = waterfall3.populate_timestamps()\n",
    "times4 = waterfall4.populate_timestamps()\n",
    "times5 = waterfall5.populate_timestamps()\n",
    "times6 = waterfall6.populate_timestamps()\n",
    "freqs1 = waterfall1.populate_freqs()\n",
    "freqs2 = waterfall2.populate_freqs()\n",
    "freqs3 = waterfall3.populate_freqs()\n",
    "freqs4 = waterfall4.populate_freqs()\n",
    "freqs5 = waterfall5.populate_freqs()\n",
    "freqs6 = waterfall6.populate_freqs()\n",
    "\"\"\"Logging the power data of each file into its corresponding variable name\"\"\"\n",
    "data1comp = waterfall1.data[:, 0, :]\n",
    "data2comp = waterfall2.data[:, 0, :]\n",
    "data3comp = waterfall3.data[:, 0, :]\n",
    "data4comp = waterfall4.data[:, 0, :]\n",
    "data5comp = waterfall5.data[:, 0, :]\n",
    "data6comp = waterfall6.data[:, 0, :]"
   ]
  },
  {
   "cell_type": "code",
   "execution_count": 6,
   "metadata": {},
   "outputs": [],
   "source": [
    "\"\"\"Converting timestamps into seconds elapsed since first observation\"\"\"\n",
    "def elapsedTime(times):\n",
    "    timesElapsedDays = times - times[0]\n",
    "    timesElapsedSeconds = timesElapsedDays * 86400\n",
    "    return(timesElapsedSeconds)\n",
    "\n",
    "telapsed1 = elapsedTime(times1)\n",
    "telapsed2 = elapsedTime(times2)\n",
    "telapsed3 = elapsedTime(times3)\n",
    "telapsed4 = elapsedTime(times4)\n",
    "telapsed5 = elapsedTime(times5)\n",
    "telapsed6 = elapsedTime(times6)"
   ]
  },
  {
   "cell_type": "code",
   "execution_count": 7,
   "metadata": {},
   "outputs": [],
   "source": [
    "\"\"\"extracting the time and frequency of each power datapoint. obsNumber corresponds to filepath number (1-6).\n",
    "Indexing in python starts from 0!!!!!\"\"\"\n",
    "def locateTime(obsNumber, vertIndex):\n",
    "    if obsNumber == 1:\n",
    "        time = telapsed1[vertIndex]\n",
    "    elif obsNumber == 2:\n",
    "        time = telapsed2[vertIndex]\n",
    "    elif obsNumber == 3:\n",
    "        time = telapsed3[vertIndex]\n",
    "    elif obsNumber == 4:\n",
    "        time = telapsed4[vertIndex]\n",
    "    elif obsNumber == 5:\n",
    "        time = telapsed5[vertIndex]\n",
    "    elif obsNumber == 6:\n",
    "        time = telapsed6[vertIndex]\n",
    "    return(time)\n",
    "\n",
    "def locateFreq(obsNumber, horizIndex):\n",
    "    if obsNumber == 1:\n",
    "        freq = freqs1[horizIndex]\n",
    "    elif obsNumber == 2:\n",
    "        freq = freqs2[horizIndex]\n",
    "    elif obsNumber == 3:\n",
    "        freq = freqs3[horizIndex]\n",
    "    elif obsNumber == 4:\n",
    "        freq = freqs4[horizIndex]\n",
    "    elif obsNumber == 5:\n",
    "        freq = freqs5[horizIndex]\n",
    "    elif obsNumber == 6:\n",
    "        freq = freqs6[horizIndex]\n",
    "    return(freq)\n",
    "\n",
    "\"\"\"Finding the time and freq for every data entry and putting them into a separate list. Input for function should\n",
    "be data#comp. Remember horizDim corresponds to freq. vertDim corresponds to time.\"\"\"\n",
    "def reorganizingAllAsList(data, obsNumber):\n",
    "    plotTime = []\n",
    "    plotFreqs = []\n",
    "    dataAsList = []\n",
    "    horizDim = data.shape[1]\n",
    "    vertDim = data.shape[0]\n",
    "    for i in range(vertDim):\n",
    "        for j in range(horizDim):\n",
    "            plotTime.append(locateTime(obsNumber, i))\n",
    "            plotFreqs.append(locateFreq(obsNumber, j))\n",
    "            dataAsList.append(data[i, j])\n",
    "    return(plotFreqs, plotTime, dataAsList)\n",
    "\n",
    "def reorganizingAllAsArray(data, obsNumber):\n",
    "    plotFreqs, plotTime, dataAsList = reorganizingAllAsList(data, obsNumber)\n",
    "    dataAsArray = np.array(dataAsList).reshape(16, 71583)\n",
    "    plotFreqsArray = np.array(plotFreqs).reshape(16, 71583)\n",
    "    plotTimeArray = np.array(plotTime).reshape(16, 71583)\n",
    "    return(plotFreqsArray, plotTimeArray, dataAsArray)"
   ]
  },
  {
   "cell_type": "code",
   "execution_count": 11,
   "metadata": {},
   "outputs": [],
   "source": [
    "\"\"\"Replotting the data with a standardized. onObsNumber are 1, 3, or 5. Freqstart, freqend, tstart, tend decide\n",
    "which section of the graph will be zoomed in on.\"\"\"\n",
    "def rePlotWithOffObs(onObsNumber):\n",
    "    display.clear_output(wait=True)\n",
    "    data = [data1comp, data2comp, data3comp, data4comp, data5comp, data6comp]\n",
    "    onData, offData = data[onObsNumber - 1], data[onObsNumber]\n",
    "    fig, axes = plt.subplots(nrows = 2, ncols = 1, figsize = (9, 14))\n",
    "    \"\"\"onObservation plot\"\"\"\n",
    "    freq1Array, time1Array, onDataArray = reorganizingAllAsArray(onData, onObsNumber)\n",
    "    onO = plt.subplot(2, 1, 1)\n",
    "    onO.set_xticks([2251.30, 2251.35, 2251.40, 2251.45])\n",
    "    onO.set_xlim([np.amin(freq1Array), np.amax(freq1Array)])\n",
    "    onO.set_ylim([np.amin(time1Array), np.amax(time1Array)])\n",
    "    onO.set_xlabel('Frequency [MHz]')\n",
    "    onO.set_ylabel('Time [s]')\n",
    "    onO.set_title(\"HIP66704 On Observation \" + str(onObsNumber))\n",
    "    onO_contour = plt.contourf(freq1Array, time1Array, onDataArray, cmap = 'viridis')\n",
    "    \"\"\"Setting the colorbar for the on graph\"\"\"\n",
    "    norm = matplotlib.colors.Normalize(vmin=onO_contour.cvalues.min(), vmax=onO_contour.cvalues.max())\n",
    "    sm = plt.cm.ScalarMappable(norm=norm, cmap = onO_contour.cmap)\n",
    "    sm.set_array([])\n",
    "    plt.colorbar(sm, ticks = onO_contour.levels)\n",
    "    \"\"\"offObservation plot\"\"\"\n",
    "    freq2Array, time2Array, offDataArray = reorganizingAllAsArray(offData, onObsNumber + 1)\n",
    "    offO = plt.subplot(2, 1, 2)\n",
    "    offO.set_xticks([2251.30, 2251.35, 2251.40, 2251.45])\n",
    "    offO.set_xlim([np.amin(freq2Array), np.amax(freq2Array)])\n",
    "    offO.set_ylim([np.amin(time2Array), np.amax(time2Array)])\n",
    "    offO.set_xlabel('Frequency [MHz]') #setting the x axis of off graph\n",
    "    offO.set_ylabel('Time [s]') #setting the y axis of off graph\n",
    "    offO.set_title(\"HIP66704 Corresponding Off Observation\")\n",
    "    offO_contour = plt.contourf(freq2Array, time2Array, offDataArray)\n",
    "    \"\"\"Setting the colorbar for the off graph\"\"\"\n",
    "    norm = matplotlib.colors.Normalize(vmin=offO_contour.cvalues.min(), vmax=offO_contour.cvalues.max())\n",
    "    sm = plt.cm.ScalarMappable(norm=norm, cmap = offO_contour.cmap)\n",
    "    sm.set_array([])\n",
    "    plt.colorbar(sm, ticks = offO_contour.levels)\n",
    "    plt.tight_layout\n",
    "    "
   ]
  },
  {
   "cell_type": "code",
   "execution_count": 15,
   "metadata": {},
   "outputs": [],
   "source": [
    "def rePlotWithZoom(onObsNumber, freqstart, freqend, tstart, tend):\n",
    "    display.clear_output(wait=True)\n",
    "    data = [data1comp, data2comp, data3comp, data4comp, data5comp, data6comp]\n",
    "    onData, offData = data[onObsNumber - 1], data[onObsNumber]\n",
    "    fig, axes = plt.subplots(nrows = 2, ncols = 2, figsize = (14, 11))\n",
    "    \"\"\"onObservation plot\"\"\"\n",
    "    freq1Array, time1Array, onDataArray = reorganizingAllAsArray(onData, onObsNumber)\n",
    "    onO = plt.subplot(2, 2, 1)\n",
    "    onO.set_xticks([2251.30, 2251.35, 2251.40, 2251.45])\n",
    "    onO.set_xlim([np.amin(freq1Array), np.amax(freq1Array)])\n",
    "    onO.set_ylim([np.amin(time1Array), np.amax(time1Array)])\n",
    "    onO.set_xlabel('Frequency [MHz]')\n",
    "    onO.set_ylabel('Time [s]')\n",
    "    onO.set_title(\"HIP66704 On Observation \" + str(onObsNumber))\n",
    "    onO_contour = plt.contourf(freq1Array, time1Array, onDataArray, cmap = 'viridis')\n",
    "    \"\"\"Setting the colorbar for the on graph\"\"\"\n",
    "    norm = matplotlib.colors.Normalize(vmin=onO_contour.cvalues.min(), vmax=onO_contour.cvalues.max())\n",
    "    sm = plt.cm.ScalarMappable(norm=norm, cmap = onO_contour.cmap)\n",
    "    sm.set_array([])\n",
    "    plt.colorbar(sm, ticks = onO_contour.levels)\n",
    "    \"\"\"Zooming in for on\"\"\"\n",
    "    axesOnObs = zoomed_inset_axes(onO, 3, loc=9) # zoom-factor: 2.5, location: upper-left\n",
    "    axesOnObs.contourf(freq1Array, time1Array, onDataArray)\n",
    "    axesOnObs.set_xlim(float(freqstart), float(freqend)) # apply the x-limits\n",
    "    axesOnObs.set_ylim(float(tstart), float(tend)) # apply the y-limits\n",
    "    plt.yticks(visible=False)\n",
    "    plt.xticks(visible=False)\n",
    "    mark_inset(onO, axesOnObs, loc1=3, loc2=4, fc=\"none\", ec=\"0.5\")\n",
    "    onO_zoom = plt.subplot(2, 2, 2)\n",
    "    onO_zoom.set_xticks(np.linspace(float(freqstart), float(freqend), 5, endpoint = True))\n",
    "    onO_zoom.set_xlim([float(freqstart), float(freqend)])\n",
    "    onO_zoom.set_ylim([float(tstart), float(tend)])\n",
    "    onO_zoom.set_xlabel('Frequency [MHz]')\n",
    "    onO_zoom.set_ylabel('Time [s]')\n",
    "    onO_zoom.set_title(\"On Observation Zoomed In\")\n",
    "    onO_zoom_contour = plt.contourf(freq1Array, time1Array, onDataArray, cmap = 'viridis')\n",
    "    norm = matplotlib.colors.Normalize(vmin=onO_zoom_contour.cvalues.min(), vmax=onO_zoom_contour.cvalues.max())\n",
    "    sm = plt.cm.ScalarMappable(norm=norm, cmap = onO_zoom_contour.cmap)\n",
    "    sm.set_array([])\n",
    "    plt.colorbar(sm, ticks = onO_zoom_contour.levels)\n",
    "    \"\"\"offObservation plot\"\"\"\n",
    "    freq2Array, time2Array, offDataArray = reorganizingAllAsArray(offData, onObsNumber + 1)\n",
    "    offO = plt.subplot(2, 2, 3)\n",
    "    offO.set_xticks([2251.30, 2251.35, 2251.40, 2251.45])\n",
    "    offO.set_xlim([np.amin(freq2Array), np.amax(freq2Array)])\n",
    "    offO.set_ylim([np.amin(time2Array), np.amax(time2Array)])\n",
    "    offO.set_xlabel('Frequency [MHz]') #setting the x axis of off graph\n",
    "    offO.set_ylabel('Time [s]') #setting the y axis of off graph\n",
    "    offO.set_title(\"HIP66704 Corresponding Off Observation\")\n",
    "    offO_contour = plt.contourf(freq2Array, time2Array, offDataArray)\n",
    "    \"\"\"Setting the colorbar for the off graph\"\"\"\n",
    "    norm = matplotlib.colors.Normalize(vmin=offO_contour.cvalues.min(), vmax=offO_contour.cvalues.max())\n",
    "    sm = plt.cm.ScalarMappable(norm=norm, cmap = offO_contour.cmap)\n",
    "    sm.set_array([])\n",
    "    plt.colorbar(sm, ticks = offO_contour.levels)\n",
    "    \"\"\"Zooming in for off\"\"\"\n",
    "    axesOffObs = zoomed_inset_axes(offO, 3, loc=9) # zoom-factor: 2.5, location: upper-left\n",
    "    axesOffObs.contourf(freq2Array, time2Array, offDataArray)\n",
    "    axesOffObs.set_xlim(float(freqstart), float(freqend)) # apply the x-limits\n",
    "    axesOffObs.set_ylim(float(tstart), float(tend)) # apply the y-limits\n",
    "    plt.yticks(visible=False)\n",
    "    plt.xticks(visible=False)\n",
    "    mark_inset(offO, axesOffObs, loc1=3, loc2=4, fc=\"none\", ec=\"0.5\")\n",
    "    offO_zoom = plt.subplot(2, 2, 4)\n",
    "    offO_zoom.set_xticks(np.linspace(float(freqstart), float(freqend), 5, endpoint = True))\n",
    "    offO_zoom.set_xlim([float(freqstart), float(freqend)])\n",
    "    offO_zoom.set_ylim([float(tstart), float(tend)])\n",
    "    offO_zoom.set_xlabel('Frequency [MHz]')\n",
    "    offO_zoom.set_ylabel('Time [s]')\n",
    "    offO_zoom.set_title(\"Off Observation Zoomed In\")\n",
    "    offO_zoom_contour = plt.contourf(freq2Array, time2Array, offDataArray, cmap = 'viridis')\n",
    "    norm = matplotlib.colors.Normalize(vmin=offO_zoom_contour.cvalues.min(), vmax=offO_zoom_contour.cvalues.max())\n",
    "    sm = plt.cm.ScalarMappable(norm=norm, cmap = offO_zoom_contour.cmap)\n",
    "    sm.set_array([])\n",
    "    plt.colorbar(sm, ticks = offO_zoom_contour.levels)\n",
    "    plt.tight_layout"
   ]
  },
  {
   "cell_type": "code",
   "execution_count": 13,
   "metadata": {},
   "outputs": [
    {
     "data": {
      "application/vnd.jupyter.widget-view+json": {
       "model_id": "f5d9dbef7bbf46438556dd3f2a2426e2",
       "version_major": 2,
       "version_minor": 0
      },
      "text/plain": [
       "interactive(children=(IntSlider(value=3, description='onObsNumber', max=5, min=1, step=2), Output()), _dom_cla…"
      ]
     },
     "metadata": {},
     "output_type": "display_data"
    },
    {
     "data": {
      "text/plain": [
       "<function __main__.rePlotWithOffObs(onObsNumber)>"
      ]
     },
     "execution_count": 13,
     "metadata": {},
     "output_type": "execute_result"
    }
   ],
   "source": [
    "interact(rePlotWithOffObs, onObsNumber = (1, 5, 2))"
   ]
  },
  {
   "cell_type": "code",
   "execution_count": 18,
   "metadata": {},
   "outputs": [
    {
     "data": {
      "application/vnd.jupyter.widget-view+json": {
       "model_id": "9c4d954e1b66476d8f973b8fb53edace",
       "version_major": 2,
       "version_minor": 0
      },
      "text/plain": [
       "interactive(children=(IntSlider(value=3, description='onObsNumber', max=5, min=1, step=2), Text(value='2251.30…"
      ]
     },
     "metadata": {},
     "output_type": "display_data"
    },
    {
     "data": {
      "text/plain": [
       "<function __main__.rePlotWithZoom(onObsNumber, freqstart, freqend, tstart, tend)>"
      ]
     },
     "execution_count": 18,
     "metadata": {},
     "output_type": "execute_result"
    }
   ],
   "source": [
    "interact(rePlotWithZoom, onObsNumber = (1, 5, 2), freqstart = '2251.30', freqend = '2251.45', tstart = '0', tend = '15')"
   ]
  },
  {
   "cell_type": "code",
   "execution_count": null,
   "metadata": {},
   "outputs": [],
   "source": []
  }
 ],
 "metadata": {
  "kernelspec": {
   "display_name": "Python 3",
   "language": "python",
   "name": "python3"
  },
  "language_info": {
   "codemirror_mode": {
    "name": "ipython",
    "version": 3
   },
   "file_extension": ".py",
   "mimetype": "text/x-python",
   "name": "python",
   "nbconvert_exporter": "python",
   "pygments_lexer": "ipython3",
   "version": "3.7.1"
  }
 },
 "nbformat": 4,
 "nbformat_minor": 2
}
